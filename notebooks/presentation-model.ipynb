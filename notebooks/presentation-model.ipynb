{
 "cells": [
  {
   "cell_type": "markdown",
   "metadata": {},
   "source": [
    "# Training a good double DQN model and testing it"
   ]
  },
  {
   "cell_type": "code",
   "execution_count": 1,
   "metadata": {},
   "outputs": [
    {
     "name": "stderr",
     "output_type": "stream",
     "text": [
      "/home/nikitautiu/envs/mirpr/lib/python3.6/site-packages/h5py/__init__.py:36: FutureWarning: Conversion of the second argument of issubdtype from `float` to `np.floating` is deprecated. In future, it will be treated as `np.float64 == np.dtype(float).type`.\n",
      "  from ._conv import register_converters as _register_converters\n",
      "Using TensorFlow backend.\n"
     ]
    }
   ],
   "source": [
    "import sys\n",
    "import os\n",
    "\n",
    "from keras.layers import Dense, Activation, Flatten\n",
    "from keras.optimizers import Adam\n",
    "from rl.agents.dqn import DQNAgent, Sequential\n",
    "from rl.memory import SequentialMemory\n",
    "from rl.policy import EpsGreedyQPolicy, LinearAnnealedPolicy, BoltzmannQPolicy\n",
    "from rl.callbacks import FileLogger\n",
    "\n",
    "# add local path\n",
    "sys.path.append(os.path.join(os.getcwd(), \"./src\"))\n",
    "\n",
    "from rl_model import TorcsKerasTrainer"
   ]
  },
  {
   "cell_type": "markdown",
   "metadata": {},
   "source": [
    "## Model building\n",
    "We are building a double DQN model identical to the one used in training."
   ]
  },
  {
   "cell_type": "code",
   "execution_count": 2,
   "metadata": {},
   "outputs": [],
   "source": [
    "def build_model(obs_shape, nb_actions):\n",
    "    # Next, we build a very simple model.\n",
    "    model = Sequential()\n",
    "    model.add(Flatten(input_shape=(1,) + obs_shape))\n",
    "    model.add(Dense(35))\n",
    "    model.add(Activation('relu'))\n",
    "    model.add(Dense(25))\n",
    "    model.add(Activation('relu'))\n",
    "    model.add(Dense(nb_actions))\n",
    "    model.add(Activation('linear'))\n",
    "    print(model.summary())\n",
    "\n",
    "    # Finally, we configure and compile our agent. You can use every built-in Keras optimizer and\n",
    "    # even the metrics!\n",
    "    memory = SequentialMemory(limit=500000, window_length=1)\n",
    "\n",
    "    # deep q learning agent, uses greedy-epsilon policy, does NB_STEPS steps of warmup and\n",
    "    # updates the gradient every 1000 steps\n",
    "    dqn = DQNAgent(model=model, nb_actions=nb_actions, memory=memory, nb_steps_warmup=30000,\n",
    "                   target_model_update=1e-2, policy=EpsGreedyQPolicy(0.1), enable_double_dqn=True)\n",
    "    dqn.compile(Adam(lr=1e-3), metrics=['mae'])\n",
    "    return dqn"
   ]
  },
  {
   "cell_type": "code",
   "execution_count": 5,
   "metadata": {},
   "outputs": [],
   "source": [
    "dqn = TorcsKerasTrainer(throttle=True, discrete_actions=9, model_function=build_model,\n",
    "                            obs_fields=['speedX', 'speedY', 'speedZ', 'track', 'focus', 'trackPos', 'angle'])\n",
    "# saving best model fo reach on of the runs\n",
    "# laos log every episode result in a separate file for later use\n",
    "dqn.fit(nb_steps=500000, best_filename='best_double_dqn.h5f', verbose=1,\n",
    "        callbacks=[FileLogger('double_dqn.json')])\n",
    "\n",
    "dqn.save_weights('double_dqn.h5f')"
   ]
  },
  {
   "cell_type": "markdown",
   "metadata": {},
   "source": [
    "## Test run\n",
    "Now that we have the trained model, we can test it."
   ]
  },
  {
   "cell_type": "code",
   "execution_count": null,
   "metadata": {},
   "outputs": [],
   "source": [
    "dqn.load_weights('double_dqn.h5f')\n",
    "dqn.test(nb_episodes=1)"
   ]
  }
 ],
 "metadata": {
  "kernelspec": {
   "display_name": "Python 3",
   "language": "python",
   "name": "python3"
  },
  "language_info": {
   "codemirror_mode": {
    "name": "ipython",
    "version": 3
   },
   "file_extension": ".py",
   "mimetype": "text/x-python",
   "name": "python",
   "nbconvert_exporter": "python",
   "pygments_lexer": "ipython3",
   "version": "3.6.4"
  }
 },
 "nbformat": 4,
 "nbformat_minor": 2
}
